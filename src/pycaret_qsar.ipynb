{
 "cells": [
  {
   "cell_type": "code",
   "execution_count": 1,
   "id": "d14dea4c",
   "metadata": {},
   "outputs": [],
   "source": [
    "#!/usr/bin/env python3\n",
    "# -*- coding: utf-8 -*-\n",
    "\"\"\"\n",
    "@author: zdx\n",
    "\"\"\"\n",
    "import os\n",
    "import pandas as pd\n",
    "import numpy as np\n",
    "from rdkit.Chem import AllChem, PandasTools\n",
    "from utils import drop_duplicates_between_two_dataframes, file_name_format\n",
    "from pycaret.classification import setup, compare_models, tune_model,\\\n",
    "    finalize_model, predict_model, save_model, load_model\n",
    "\n",
    "def get_fingerprint(df):\n",
    "    print('Getting fingerprint ...')\n",
    "    PandasTools.AddMoleculeColumnToFrame(df, \"SMILES\")\n",
    "    fps = []\n",
    "    for mol in df.ROMol:\n",
    "        fp = [x for x in AllChem.GetMorganFingerprintAsBitVect(mol, 2, 2048)]\n",
    "        fps.append(fp)\n",
    "    fps = np.array(fps)\n",
    "    X = pd.DataFrame(fps)\n",
    "    return X\n",
    "\n",
    "def train_qsar_pycaret(active_file, decoy_file, out_dir, session_id=123, fold=3, html=False, silent=True):\n",
    "    print(\"Training ...\")\n",
    "    active = pd.read_csv(active_file)\n",
    "    decoy = pd.read_csv(decoy_file)\n",
    "    decoy = drop_duplicates_between_two_dataframes(decoy, active)\n",
    "    active = active.copy(); active['LABEL'] = 1\n",
    "    active = active[['SMILES', 'LABEL']]\n",
    "    decoy['LABEL'] = 0\n",
    "    decoy = decoy[['SMILES', 'LABEL']]\n",
    "    df = pd.concat([active, decoy])\n",
    "    df.reset_index(drop=True, inplace=True)\n",
    "    \n",
    "    X = get_fingerprint(df)\n",
    "    X['Y'] = df['LABEL'].values\n",
    "    \n",
    "    exp_clf101 = setup(data = X, target = 'Y', session_id=session_id, fold=fold, \n",
    "                       html=html, silent=silent) \n",
    "    best_model = compare_models()\n",
    "    tuned_best_model = tune_model(best_model)\n",
    "    final_model = finalize_model(tuned_best_model)\n",
    "    out_file = os.path.join(out_dir, 'qsar_best_ml_model')\n",
    "    save_model(final_model, out_file)\n",
    "    return out_file, final_model\n",
    "    \n",
    "    \n",
    "def predict_qsar_pycaret(test_file, out_file=None, out_dir=None, \n",
    "                         model_file=None, model=None):\n",
    "    print(\"Predicting ...\")\n",
    "    if out_file is None:\n",
    "        name, _ = file_name_format(test_file)\n",
    "        if out_dir is None:\n",
    "            out_dir = os.path.dirname(test_file)\n",
    "        out_file = os.path.join(out_dir, name+'_scored.csv')\n",
    "    if os.path.exists(out_file):\n",
    "        print(\"The file has been predicted\")\n",
    "        return out_file\n",
    "\n",
    "    if model is None:\n",
    "        if model_file is None:\n",
    "            print(\"Do not have input model, please check!\")\n",
    "            return\n",
    "        if '.pkl' in model_file:\n",
    "            model_file = model_file.replace('.pkl', '')\n",
    "        \n",
    "        model = load_model(model_file)\n",
    "    df = pd.read_csv(test_file)\n",
    "    X_test = get_fingerprint(df)\n",
    "    unseen_predictions = predict_model(model, data=X_test)\n",
    "    df['score'] = unseen_predictions.Score\n",
    "    df.sort_values(['score', 'QED'], ascending=False, inplace=True)\n",
    "\n",
    "    df.to_csv(out_file, index=False)\n",
    "    return out_file\n",
    "    \n",
    "def train_predict_pycaret(active_file, decoy_file, test_file, out_dir, \n",
    "                          session_id=123, fold=3, html=False, silent=True):\n",
    "    if not os.path.exists(out_dir):\n",
    "        os.makedirs(out_dir)\n",
    "    model_file, model = train_qsar_pycaret(active_file, decoy_file, out_dir, \n",
    "        session_id=session_id, fold=fold, html=html, silent=silent)\n",
    "    test_predicted_file = predict_qsar_pycaret(test_file, out_dir=out_dir, \n",
    "                                               model=model)\n",
    "    return model_file, test_predicted_file"
   ]
  },
  {
   "cell_type": "code",
   "execution_count": 2,
   "id": "13cae8c1",
   "metadata": {},
   "outputs": [
    {
     "data": {
      "text/html": [
       "<style type=\"text/css\">\n",
       "</style>\n",
       "<table id=\"T_2b7b9_\">\n",
       "  <thead>\n",
       "  </thead>\n",
       "  <tbody>\n",
       "  </tbody>\n",
       "</table>\n"
      ],
      "text/plain": [
       "<pandas.io.formats.style.Styler at 0x7f2536e90d50>"
      ]
     },
     "metadata": {},
     "output_type": "display_data"
    },
    {
     "ename": "ValueError",
     "evalue": "Estimator [] does not have the required fit() method.",
     "output_type": "error",
     "traceback": [
      "\u001b[0;31m---------------------------------------------------------------------------\u001b[0m",
      "\u001b[0;31mValueError\u001b[0m                                Traceback (most recent call last)",
      "\u001b[0;32m/tmp/ipykernel_19377/3075356049.py\u001b[0m in \u001b[0;36m<module>\u001b[0;34m\u001b[0m\n\u001b[1;32m      4\u001b[0m \u001b[0;34m\u001b[0m\u001b[0m\n\u001b[1;32m      5\u001b[0m \u001b[0mout_dir\u001b[0m \u001b[0;34m=\u001b[0m \u001b[0;34m'/home/zdx/project/MDZT-1003/compute/SMS2_classifier'\u001b[0m\u001b[0;34m\u001b[0m\u001b[0;34m\u001b[0m\u001b[0m\n\u001b[0;32m----> 6\u001b[0;31m \u001b[0mmodel_file\u001b[0m\u001b[0;34m,\u001b[0m \u001b[0mtest_predicted_file\u001b[0m \u001b[0;34m=\u001b[0m \u001b[0mtrain_predict_pycaret\u001b[0m\u001b[0;34m(\u001b[0m\u001b[0mactive_file\u001b[0m\u001b[0;34m,\u001b[0m \u001b[0mdecoy_file\u001b[0m\u001b[0;34m,\u001b[0m \u001b[0mtest_file\u001b[0m\u001b[0;34m,\u001b[0m \u001b[0mout_dir\u001b[0m\u001b[0;34m,\u001b[0m \u001b[0mhtml\u001b[0m\u001b[0;34m=\u001b[0m\u001b[0;32mTrue\u001b[0m\u001b[0;34m,\u001b[0m \u001b[0msilent\u001b[0m\u001b[0;34m=\u001b[0m\u001b[0;32mFalse\u001b[0m\u001b[0;34m)\u001b[0m\u001b[0;34m\u001b[0m\u001b[0;34m\u001b[0m\u001b[0m\n\u001b[0m",
      "\u001b[0;32m/tmp/ipykernel_19377/38273748.py\u001b[0m in \u001b[0;36mtrain_predict_pycaret\u001b[0;34m(active_file, decoy_file, test_file, out_dir, session_id, fold, html, silent)\u001b[0m\n\u001b[1;32m     84\u001b[0m         \u001b[0mos\u001b[0m\u001b[0;34m.\u001b[0m\u001b[0mmakedirs\u001b[0m\u001b[0;34m(\u001b[0m\u001b[0mout_dir\u001b[0m\u001b[0;34m)\u001b[0m\u001b[0;34m\u001b[0m\u001b[0;34m\u001b[0m\u001b[0m\n\u001b[1;32m     85\u001b[0m     model_file, model = train_qsar_pycaret(active_file, decoy_file, out_dir, \n\u001b[0;32m---> 86\u001b[0;31m         session_id=session_id, fold=fold, html=html, silent=silent)\n\u001b[0m\u001b[1;32m     87\u001b[0m     test_predicted_file = predict_qsar_pycaret(test_file, out_dir=out_dir, \n\u001b[1;32m     88\u001b[0m                                                model=model)\n",
      "\u001b[0;32m/tmp/ipykernel_19377/38273748.py\u001b[0m in \u001b[0;36mtrain_qsar_pycaret\u001b[0;34m(active_file, decoy_file, out_dir, session_id, fold, html, silent)\u001b[0m\n\u001b[1;32m     43\u001b[0m                        html=html, silent=silent) \n\u001b[1;32m     44\u001b[0m     \u001b[0mbest_model\u001b[0m \u001b[0;34m=\u001b[0m \u001b[0mcompare_models\u001b[0m\u001b[0;34m(\u001b[0m\u001b[0;34m)\u001b[0m\u001b[0;34m\u001b[0m\u001b[0;34m\u001b[0m\u001b[0m\n\u001b[0;32m---> 45\u001b[0;31m     \u001b[0mtuned_best_model\u001b[0m \u001b[0;34m=\u001b[0m \u001b[0mtune_model\u001b[0m\u001b[0;34m(\u001b[0m\u001b[0mbest_model\u001b[0m\u001b[0;34m)\u001b[0m\u001b[0;34m\u001b[0m\u001b[0;34m\u001b[0m\u001b[0m\n\u001b[0m\u001b[1;32m     46\u001b[0m     \u001b[0mfinal_model\u001b[0m \u001b[0;34m=\u001b[0m \u001b[0mfinalize_model\u001b[0m\u001b[0;34m(\u001b[0m\u001b[0mtuned_best_model\u001b[0m\u001b[0;34m)\u001b[0m\u001b[0;34m\u001b[0m\u001b[0;34m\u001b[0m\u001b[0m\n\u001b[1;32m     47\u001b[0m     \u001b[0mout_file\u001b[0m \u001b[0;34m=\u001b[0m \u001b[0mos\u001b[0m\u001b[0;34m.\u001b[0m\u001b[0mpath\u001b[0m\u001b[0;34m.\u001b[0m\u001b[0mjoin\u001b[0m\u001b[0;34m(\u001b[0m\u001b[0mout_dir\u001b[0m\u001b[0;34m,\u001b[0m \u001b[0;34m'qsar_best_ml_model'\u001b[0m\u001b[0;34m)\u001b[0m\u001b[0;34m\u001b[0m\u001b[0;34m\u001b[0m\u001b[0m\n",
      "\u001b[0;32m~/anaconda3/envs/rdkit/lib/python3.7/site-packages/pycaret/classification.py\u001b[0m in \u001b[0;36mtune_model\u001b[0;34m(estimator, fold, round, n_iter, custom_grid, optimize, custom_scorer, search_library, search_algorithm, early_stopping, early_stopping_max_iters, choose_better, fit_kwargs, groups, return_tuner, verbose, tuner_verbose, return_train_score, **kwargs)\u001b[0m\n\u001b[1;32m   1180\u001b[0m         \u001b[0mtuner_verbose\u001b[0m\u001b[0;34m=\u001b[0m\u001b[0mtuner_verbose\u001b[0m\u001b[0;34m,\u001b[0m\u001b[0;34m\u001b[0m\u001b[0;34m\u001b[0m\u001b[0m\n\u001b[1;32m   1181\u001b[0m         \u001b[0mreturn_train_score\u001b[0m\u001b[0;34m=\u001b[0m\u001b[0mreturn_train_score\u001b[0m\u001b[0;34m,\u001b[0m\u001b[0;34m\u001b[0m\u001b[0;34m\u001b[0m\u001b[0m\n\u001b[0;32m-> 1182\u001b[0;31m         \u001b[0;34m**\u001b[0m\u001b[0mkwargs\u001b[0m\u001b[0;34m,\u001b[0m\u001b[0;34m\u001b[0m\u001b[0;34m\u001b[0m\u001b[0m\n\u001b[0m\u001b[1;32m   1183\u001b[0m     )\n\u001b[1;32m   1184\u001b[0m \u001b[0;34m\u001b[0m\u001b[0m\n",
      "\u001b[0;32m~/anaconda3/envs/rdkit/lib/python3.7/site-packages/pycaret/internal/tabular.py\u001b[0m in \u001b[0;36mtune_model_supervised\u001b[0;34m(estimator, fold, round, n_iter, custom_grid, optimize, custom_scorer, search_library, search_algorithm, early_stopping, early_stopping_max_iters, choose_better, fit_kwargs, groups, return_tuner, verbose, tuner_verbose, display, return_train_score, **kwargs)\u001b[0m\n\u001b[1;32m   3971\u001b[0m     \u001b[0;32mif\u001b[0m \u001b[0;32mnot\u001b[0m \u001b[0mhasattr\u001b[0m\u001b[0;34m(\u001b[0m\u001b[0mestimator\u001b[0m\u001b[0;34m,\u001b[0m \u001b[0;34m\"fit\"\u001b[0m\u001b[0;34m)\u001b[0m\u001b[0;34m:\u001b[0m\u001b[0;34m\u001b[0m\u001b[0;34m\u001b[0m\u001b[0m\n\u001b[1;32m   3972\u001b[0m         raise ValueError(\n\u001b[0;32m-> 3973\u001b[0;31m             \u001b[0;34mf\"Estimator {estimator} does not have the required fit() method.\"\u001b[0m\u001b[0;34m\u001b[0m\u001b[0;34m\u001b[0m\u001b[0m\n\u001b[0m\u001b[1;32m   3974\u001b[0m         )\n\u001b[1;32m   3975\u001b[0m \u001b[0;34m\u001b[0m\u001b[0m\n",
      "\u001b[0;31mValueError\u001b[0m: Estimator [] does not have the required fit() method."
     ]
    }
   ],
   "source": [
    "active_file = '/home/zdx/project/MDZT-1003/data/actives_org/SMS2_actives.csv'\n",
    "decoy_file = '/home/zdx/data/chembl/chembl_rd_filters_features_unique_scaffold.csv'\n",
    "test_file = '/home/zdx/project/MDZT-1003/compute/soft_pat_filter.csv'\n",
    "\n",
    "out_dir = '/home/zdx/project/MDZT-1003/compute/SMS2_classifier'\n",
    "\n",
    "    model_file, model = train_qsar_pycaret(active_file, decoy_file, out_dir, \n",
    "        session_id=session_id, fold=fold, html=True, silent=False)"
   ]
  },
  {
   "cell_type": "code",
   "execution_count": null,
   "id": "7374c3e2",
   "metadata": {},
   "outputs": [],
   "source": []
  }
 ],
 "metadata": {
  "kernelspec": {
   "display_name": "Python 3 (ipykernel)",
   "language": "python",
   "name": "python3"
  },
  "language_info": {
   "codemirror_mode": {
    "name": "ipython",
    "version": 3
   },
   "file_extension": ".py",
   "mimetype": "text/x-python",
   "name": "python",
   "nbconvert_exporter": "python",
   "pygments_lexer": "ipython3",
   "version": "3.7.11"
  }
 },
 "nbformat": 4,
 "nbformat_minor": 5
}
